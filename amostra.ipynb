{
 "cells": [
  {
   "cell_type": "code",
   "id": "initial_id",
   "metadata": {
    "collapsed": true,
    "ExecuteTime": {
     "end_time": "2025-07-09T16:03:44.086418Z",
     "start_time": "2025-07-09T16:03:42.365550Z"
    }
   },
   "source": [
    "import pandas as pd\n",
    "from sklearn.model_selection import train_test_split"
   ],
   "outputs": [],
   "execution_count": 1
  },
  {
   "metadata": {
    "ExecuteTime": {
     "end_time": "2025-07-09T16:04:12.368477Z",
     "start_time": "2025-07-09T16:03:47.523538Z"
    }
   },
   "cell_type": "code",
   "source": [
    "df_a = pd.read_excel(\"data/recognasum/train.xlsx\")\n",
    "df_b = pd.read_json(\"data/xlsum/portuguese_train.jsonl\",lines=True)"
   ],
   "id": "25801cdc6a77002f",
   "outputs": [],
   "execution_count": 2
  },
  {
   "metadata": {
    "ExecuteTime": {
     "end_time": "2025-07-07T23:00:16.702406Z",
     "start_time": "2025-07-07T23:00:16.683262Z"
    }
   },
   "cell_type": "code",
   "source": "df_a.head()",
   "id": "7fb3a7b108f9aa10",
   "outputs": [
    {
     "data": {
      "text/plain": [
       "   Unnamed: 0   index                                             Titulo  \\\n",
       "0           0   52037  Ex-BBB Paula se emociona com novo procedimento...   \n",
       "1           1   45191   Trump sinaliza que anúncio de candidatura par...   \n",
       "2           2   74910  Auxílio Emergencial 2021: Caixa começa a pagar...   \n",
       "3           3  120941  Netflix lança novos recursos para controle dos...   \n",
       "4           4  114965  Estudo estima que 5% da população da Espanha c...   \n",
       "\n",
       "                                           Subtitulo  \\\n",
       "0  Ex-sister compartilhou vídeo da preparação par...   \n",
       "1  Em entrevista à New York Magazine, ex-presiden...   \n",
       "2  Pagamento começa nesta quinta para trabalhador...   \n",
       "3  Plataforma vai permitir que usuários coloquem ...   \n",
       "4  Na região da capital, 11% da população teve te...   \n",
       "\n",
       "                                             Noticia             Categoria  \\\n",
       "0  A ex-BBB 23 Paula Freitas compartilhou em suas...        Entretenimento   \n",
       "1  Gabby Orrda CNN Talvez no sinal mais forte até...         Internacional   \n",
       "2  A Caixa Econômica Federal (Caixa) começa a pag...              Economia   \n",
       "3  A empresa também adicionou um recurso para pro...              Política   \n",
       "4  \"O estudo constata que 5% da população espanho...  Ciência e Tecnologia   \n",
       "\n",
       "               Autor                                               Data  \\\n",
       "0              Extra                                  09/05/2023 10h53    \n",
       "1                CNN   14/07/2022 às 16:51 | Atualizado 14/07/2022 à...   \n",
       "2             Por G1                                  17/06/2021 00h00    \n",
       "3        Por Reuters                                  07/04/2020 22h02    \n",
       "4  Por France Presse                                  13/05/2020 21h12    \n",
       "\n",
       "                                                 URL Autor_corrigido  \\\n",
       "0  https://extra.globo.com/entretenimento/noticia...           Extra   \n",
       "1  https://www.cnnbrasil.com.br/internacional/tru...             CNN   \n",
       "2  https://g1.globo.com/economia/auxilio-emergenc...              G1   \n",
       "3  https://g1.globo.com/economia/tecnologia/notic...         Reuters   \n",
       "4  https://g1.globo.com/mundo/noticia/2020/05/13/...   France Presse   \n",
       "\n",
       "                                             Sumario  \n",
       "0  Ex-BBB Paula se emociona com novo procedimento...  \n",
       "1  Trump sinaliza que anúncio de candidatura para...  \n",
       "2  Auxílio Emergencial 2021: Caixa começa a pagar...  \n",
       "3  Netflix lança novos recursos para controle dos...  \n",
       "4  Estudo estima que 5% da população da Espanha c...  "
      ],
      "text/html": [
       "<div>\n",
       "<style scoped>\n",
       "    .dataframe tbody tr th:only-of-type {\n",
       "        vertical-align: middle;\n",
       "    }\n",
       "\n",
       "    .dataframe tbody tr th {\n",
       "        vertical-align: top;\n",
       "    }\n",
       "\n",
       "    .dataframe thead th {\n",
       "        text-align: right;\n",
       "    }\n",
       "</style>\n",
       "<table border=\"1\" class=\"dataframe\">\n",
       "  <thead>\n",
       "    <tr style=\"text-align: right;\">\n",
       "      <th></th>\n",
       "      <th>Unnamed: 0</th>\n",
       "      <th>index</th>\n",
       "      <th>Titulo</th>\n",
       "      <th>Subtitulo</th>\n",
       "      <th>Noticia</th>\n",
       "      <th>Categoria</th>\n",
       "      <th>Autor</th>\n",
       "      <th>Data</th>\n",
       "      <th>URL</th>\n",
       "      <th>Autor_corrigido</th>\n",
       "      <th>Sumario</th>\n",
       "    </tr>\n",
       "  </thead>\n",
       "  <tbody>\n",
       "    <tr>\n",
       "      <th>0</th>\n",
       "      <td>0</td>\n",
       "      <td>52037</td>\n",
       "      <td>Ex-BBB Paula se emociona com novo procedimento...</td>\n",
       "      <td>Ex-sister compartilhou vídeo da preparação par...</td>\n",
       "      <td>A ex-BBB 23 Paula Freitas compartilhou em suas...</td>\n",
       "      <td>Entretenimento</td>\n",
       "      <td>Extra</td>\n",
       "      <td>09/05/2023 10h53</td>\n",
       "      <td>https://extra.globo.com/entretenimento/noticia...</td>\n",
       "      <td>Extra</td>\n",
       "      <td>Ex-BBB Paula se emociona com novo procedimento...</td>\n",
       "    </tr>\n",
       "    <tr>\n",
       "      <th>1</th>\n",
       "      <td>1</td>\n",
       "      <td>45191</td>\n",
       "      <td>Trump sinaliza que anúncio de candidatura par...</td>\n",
       "      <td>Em entrevista à New York Magazine, ex-presiden...</td>\n",
       "      <td>Gabby Orrda CNN Talvez no sinal mais forte até...</td>\n",
       "      <td>Internacional</td>\n",
       "      <td>CNN</td>\n",
       "      <td>14/07/2022 às 16:51 | Atualizado 14/07/2022 à...</td>\n",
       "      <td>https://www.cnnbrasil.com.br/internacional/tru...</td>\n",
       "      <td>CNN</td>\n",
       "      <td>Trump sinaliza que anúncio de candidatura para...</td>\n",
       "    </tr>\n",
       "    <tr>\n",
       "      <th>2</th>\n",
       "      <td>2</td>\n",
       "      <td>74910</td>\n",
       "      <td>Auxílio Emergencial 2021: Caixa começa a pagar...</td>\n",
       "      <td>Pagamento começa nesta quinta para trabalhador...</td>\n",
       "      <td>A Caixa Econômica Federal (Caixa) começa a pag...</td>\n",
       "      <td>Economia</td>\n",
       "      <td>Por G1</td>\n",
       "      <td>17/06/2021 00h00</td>\n",
       "      <td>https://g1.globo.com/economia/auxilio-emergenc...</td>\n",
       "      <td>G1</td>\n",
       "      <td>Auxílio Emergencial 2021: Caixa começa a pagar...</td>\n",
       "    </tr>\n",
       "    <tr>\n",
       "      <th>3</th>\n",
       "      <td>3</td>\n",
       "      <td>120941</td>\n",
       "      <td>Netflix lança novos recursos para controle dos...</td>\n",
       "      <td>Plataforma vai permitir que usuários coloquem ...</td>\n",
       "      <td>A empresa também adicionou um recurso para pro...</td>\n",
       "      <td>Política</td>\n",
       "      <td>Por Reuters</td>\n",
       "      <td>07/04/2020 22h02</td>\n",
       "      <td>https://g1.globo.com/economia/tecnologia/notic...</td>\n",
       "      <td>Reuters</td>\n",
       "      <td>Netflix lança novos recursos para controle dos...</td>\n",
       "    </tr>\n",
       "    <tr>\n",
       "      <th>4</th>\n",
       "      <td>4</td>\n",
       "      <td>114965</td>\n",
       "      <td>Estudo estima que 5% da população da Espanha c...</td>\n",
       "      <td>Na região da capital, 11% da população teve te...</td>\n",
       "      <td>\"O estudo constata que 5% da população espanho...</td>\n",
       "      <td>Ciência e Tecnologia</td>\n",
       "      <td>Por France Presse</td>\n",
       "      <td>13/05/2020 21h12</td>\n",
       "      <td>https://g1.globo.com/mundo/noticia/2020/05/13/...</td>\n",
       "      <td>France Presse</td>\n",
       "      <td>Estudo estima que 5% da população da Espanha c...</td>\n",
       "    </tr>\n",
       "  </tbody>\n",
       "</table>\n",
       "</div>"
      ]
     },
     "execution_count": 3,
     "metadata": {},
     "output_type": "execute_result"
    }
   ],
   "execution_count": 3
  },
  {
   "metadata": {
    "ExecuteTime": {
     "end_time": "2025-07-07T23:00:16.752064Z",
     "start_time": "2025-07-07T23:00:16.744292Z"
    }
   },
   "cell_type": "code",
   "source": "df_b.head()",
   "id": "998000d00888101f",
   "outputs": [
    {
     "data": {
      "text/plain": [
       "                                       id  \\\n",
       "0  121217_eua_enterro_massacre_escola_lgb   \n",
       "1                         brasil-44298193   \n",
       "2                      031022_ivanlessamp   \n",
       "3                         brasil-40686894   \n",
       "4                          041202_dolaraw   \n",
       "\n",
       "                                                 url  \\\n",
       "0  https://www.bbc.com/portuguese/ultimas_noticia...   \n",
       "1     https://www.bbc.com/portuguese/brasil-44298193   \n",
       "2  https://www.bbc.com/portuguese/noticias/story/...   \n",
       "3     https://www.bbc.com/portuguese/brasil-40686894   \n",
       "4  https://www.bbc.com/portuguese/economia/story/...   \n",
       "\n",
       "                                               title  \\\n",
       "0          EUA enterram mortos de massacre em escola   \n",
       "1  OCDE reduz previsão de crescimento do Brasil e...   \n",
       "2                                 Nas malhas da arte   \n",
       "3  Contra superbactérias, hospitais tentam conter...   \n",
       "4  Dólar registra nova queda com incerteza sobre ...   \n",
       "\n",
       "                                             summary  \\\n",
       "0  A comunidade de Newtown deu início nesta segun...   \n",
       "1  A Organização para a Cooperação e Desenvolvime...   \n",
       "2  Em Manchester, a que não chamarei de “a Juiz d...   \n",
       "3  No final de janeiro, a estudante macapaense Ad...   \n",
       "4  O dólar registrou nesta quinta-feira novas bai...   \n",
       "\n",
       "                                                text  \n",
       "0  Na última sexta-feira, um atirador abriu fogo ...  \n",
       "1  Segundo organização, sistema de aposentadorias...  \n",
       "2  Nenhum deles é torturado ou forçado a dormir a...  \n",
       "3  Uma das principais causas da resistência bacte...  \n",
       "4  No início da tarde desta quinta-feira, o euro ...  "
      ],
      "text/html": [
       "<div>\n",
       "<style scoped>\n",
       "    .dataframe tbody tr th:only-of-type {\n",
       "        vertical-align: middle;\n",
       "    }\n",
       "\n",
       "    .dataframe tbody tr th {\n",
       "        vertical-align: top;\n",
       "    }\n",
       "\n",
       "    .dataframe thead th {\n",
       "        text-align: right;\n",
       "    }\n",
       "</style>\n",
       "<table border=\"1\" class=\"dataframe\">\n",
       "  <thead>\n",
       "    <tr style=\"text-align: right;\">\n",
       "      <th></th>\n",
       "      <th>id</th>\n",
       "      <th>url</th>\n",
       "      <th>title</th>\n",
       "      <th>summary</th>\n",
       "      <th>text</th>\n",
       "    </tr>\n",
       "  </thead>\n",
       "  <tbody>\n",
       "    <tr>\n",
       "      <th>0</th>\n",
       "      <td>121217_eua_enterro_massacre_escola_lgb</td>\n",
       "      <td>https://www.bbc.com/portuguese/ultimas_noticia...</td>\n",
       "      <td>EUA enterram mortos de massacre em escola</td>\n",
       "      <td>A comunidade de Newtown deu início nesta segun...</td>\n",
       "      <td>Na última sexta-feira, um atirador abriu fogo ...</td>\n",
       "    </tr>\n",
       "    <tr>\n",
       "      <th>1</th>\n",
       "      <td>brasil-44298193</td>\n",
       "      <td>https://www.bbc.com/portuguese/brasil-44298193</td>\n",
       "      <td>OCDE reduz previsão de crescimento do Brasil e...</td>\n",
       "      <td>A Organização para a Cooperação e Desenvolvime...</td>\n",
       "      <td>Segundo organização, sistema de aposentadorias...</td>\n",
       "    </tr>\n",
       "    <tr>\n",
       "      <th>2</th>\n",
       "      <td>031022_ivanlessamp</td>\n",
       "      <td>https://www.bbc.com/portuguese/noticias/story/...</td>\n",
       "      <td>Nas malhas da arte</td>\n",
       "      <td>Em Manchester, a que não chamarei de “a Juiz d...</td>\n",
       "      <td>Nenhum deles é torturado ou forçado a dormir a...</td>\n",
       "    </tr>\n",
       "    <tr>\n",
       "      <th>3</th>\n",
       "      <td>brasil-40686894</td>\n",
       "      <td>https://www.bbc.com/portuguese/brasil-40686894</td>\n",
       "      <td>Contra superbactérias, hospitais tentam conter...</td>\n",
       "      <td>No final de janeiro, a estudante macapaense Ad...</td>\n",
       "      <td>Uma das principais causas da resistência bacte...</td>\n",
       "    </tr>\n",
       "    <tr>\n",
       "      <th>4</th>\n",
       "      <td>041202_dolaraw</td>\n",
       "      <td>https://www.bbc.com/portuguese/economia/story/...</td>\n",
       "      <td>Dólar registra nova queda com incerteza sobre ...</td>\n",
       "      <td>O dólar registrou nesta quinta-feira novas bai...</td>\n",
       "      <td>No início da tarde desta quinta-feira, o euro ...</td>\n",
       "    </tr>\n",
       "  </tbody>\n",
       "</table>\n",
       "</div>"
      ]
     },
     "execution_count": 4,
     "metadata": {},
     "output_type": "execute_result"
    }
   ],
   "execution_count": 4
  },
  {
   "metadata": {
    "ExecuteTime": {
     "end_time": "2025-07-09T16:04:12.452367Z",
     "start_time": "2025-07-09T16:04:12.374196Z"
    }
   },
   "cell_type": "code",
   "source": [
    "#removendo as colunas que nao serao usadas\n",
    "df_a = df_a[[\"Noticia\",\"Categoria\", \"Sumario\"]]\n",
    "df_b = df_b[[\"text\",\"summary\"]]"
   ],
   "id": "e0230a3b9be83211",
   "outputs": [],
   "execution_count": 3
  },
  {
   "metadata": {
    "ExecuteTime": {
     "end_time": "2025-07-09T16:04:12.588698Z",
     "start_time": "2025-07-09T16:04:12.544279Z"
    }
   },
   "cell_type": "code",
   "source": [
    "#adicionando a coluna categoria ao df_b e colocando todos os dados como none\n",
    "df_b[\"Categoria\"] = \"None\"\n",
    "\n",
    "#renomeando as colunas para ficarem iguais\n",
    "df_b = df_b.rename(columns={\"text\": \"Noticia\", \"summary\": \"Sumario\"})\n",
    "\n",
    "df_b.head()"
   ],
   "id": "9d5e4272b9ca12d3",
   "outputs": [
    {
     "data": {
      "text/plain": [
       "                                             Noticia  \\\n",
       "0  Na última sexta-feira, um atirador abriu fogo ...   \n",
       "1  Segundo organização, sistema de aposentadorias...   \n",
       "2  Nenhum deles é torturado ou forçado a dormir a...   \n",
       "3  Uma das principais causas da resistência bacte...   \n",
       "4  No início da tarde desta quinta-feira, o euro ...   \n",
       "\n",
       "                                             Sumario Categoria  \n",
       "0  A comunidade de Newtown deu início nesta segun...      None  \n",
       "1  A Organização para a Cooperação e Desenvolvime...      None  \n",
       "2  Em Manchester, a que não chamarei de “a Juiz d...      None  \n",
       "3  No final de janeiro, a estudante macapaense Ad...      None  \n",
       "4  O dólar registrou nesta quinta-feira novas bai...      None  "
      ],
      "text/html": [
       "<div>\n",
       "<style scoped>\n",
       "    .dataframe tbody tr th:only-of-type {\n",
       "        vertical-align: middle;\n",
       "    }\n",
       "\n",
       "    .dataframe tbody tr th {\n",
       "        vertical-align: top;\n",
       "    }\n",
       "\n",
       "    .dataframe thead th {\n",
       "        text-align: right;\n",
       "    }\n",
       "</style>\n",
       "<table border=\"1\" class=\"dataframe\">\n",
       "  <thead>\n",
       "    <tr style=\"text-align: right;\">\n",
       "      <th></th>\n",
       "      <th>Noticia</th>\n",
       "      <th>Sumario</th>\n",
       "      <th>Categoria</th>\n",
       "    </tr>\n",
       "  </thead>\n",
       "  <tbody>\n",
       "    <tr>\n",
       "      <th>0</th>\n",
       "      <td>Na última sexta-feira, um atirador abriu fogo ...</td>\n",
       "      <td>A comunidade de Newtown deu início nesta segun...</td>\n",
       "      <td>None</td>\n",
       "    </tr>\n",
       "    <tr>\n",
       "      <th>1</th>\n",
       "      <td>Segundo organização, sistema de aposentadorias...</td>\n",
       "      <td>A Organização para a Cooperação e Desenvolvime...</td>\n",
       "      <td>None</td>\n",
       "    </tr>\n",
       "    <tr>\n",
       "      <th>2</th>\n",
       "      <td>Nenhum deles é torturado ou forçado a dormir a...</td>\n",
       "      <td>Em Manchester, a que não chamarei de “a Juiz d...</td>\n",
       "      <td>None</td>\n",
       "    </tr>\n",
       "    <tr>\n",
       "      <th>3</th>\n",
       "      <td>Uma das principais causas da resistência bacte...</td>\n",
       "      <td>No final de janeiro, a estudante macapaense Ad...</td>\n",
       "      <td>None</td>\n",
       "    </tr>\n",
       "    <tr>\n",
       "      <th>4</th>\n",
       "      <td>No início da tarde desta quinta-feira, o euro ...</td>\n",
       "      <td>O dólar registrou nesta quinta-feira novas bai...</td>\n",
       "      <td>None</td>\n",
       "    </tr>\n",
       "  </tbody>\n",
       "</table>\n",
       "</div>"
      ]
     },
     "execution_count": 4,
     "metadata": {},
     "output_type": "execute_result"
    }
   ],
   "execution_count": 4
  },
  {
   "metadata": {
    "ExecuteTime": {
     "end_time": "2025-07-09T16:04:12.669983Z",
     "start_time": "2025-07-09T16:04:12.656379Z"
    }
   },
   "cell_type": "code",
   "source": [
    "#concatenando os dois dataframes\n",
    "df = pd.concat([df_a, df_b], ignore_index=True)\n"
   ],
   "id": "953ace728f529d49",
   "outputs": [],
   "execution_count": 5
  },
  {
   "metadata": {},
   "cell_type": "markdown",
   "source": "## Amostragem 2",
   "id": "d00eb1d18e8de71b"
  },
  {
   "metadata": {
    "ExecuteTime": {
     "end_time": "2025-07-09T16:04:38.762744Z",
     "start_time": "2025-07-09T16:04:35.047126Z"
    }
   },
   "cell_type": "code",
   "source": [
    "#criando uma nova coluna com o numero de caracteres da noticia\n",
    "df[\"Tamanho_noticia\"] = df[\"Noticia\"].apply(lambda x: len(x.split()))\n",
    "df.head()"
   ],
   "id": "5a9fcc8a5598be8",
   "outputs": [
    {
     "data": {
      "text/plain": [
       "                                             Noticia             Categoria  \\\n",
       "0  A ex-BBB 23 Paula Freitas compartilhou em suas...        Entretenimento   \n",
       "1  Gabby Orrda CNN Talvez no sinal mais forte até...         Internacional   \n",
       "2  A Caixa Econômica Federal (Caixa) começa a pag...              Economia   \n",
       "3  A empresa também adicionou um recurso para pro...              Política   \n",
       "4  \"O estudo constata que 5% da população espanho...  Ciência e Tecnologia   \n",
       "\n",
       "                                             Sumario  Tamanho_noticia  \n",
       "0  Ex-BBB Paula se emociona com novo procedimento...              200  \n",
       "1  Trump sinaliza que anúncio de candidatura para...              413  \n",
       "2  Auxílio Emergencial 2021: Caixa começa a pagar...              285  \n",
       "3  Netflix lança novos recursos para controle dos...              140  \n",
       "4  Estudo estima que 5% da população da Espanha c...              163  "
      ],
      "text/html": [
       "<div>\n",
       "<style scoped>\n",
       "    .dataframe tbody tr th:only-of-type {\n",
       "        vertical-align: middle;\n",
       "    }\n",
       "\n",
       "    .dataframe tbody tr th {\n",
       "        vertical-align: top;\n",
       "    }\n",
       "\n",
       "    .dataframe thead th {\n",
       "        text-align: right;\n",
       "    }\n",
       "</style>\n",
       "<table border=\"1\" class=\"dataframe\">\n",
       "  <thead>\n",
       "    <tr style=\"text-align: right;\">\n",
       "      <th></th>\n",
       "      <th>Noticia</th>\n",
       "      <th>Categoria</th>\n",
       "      <th>Sumario</th>\n",
       "      <th>Tamanho_noticia</th>\n",
       "    </tr>\n",
       "  </thead>\n",
       "  <tbody>\n",
       "    <tr>\n",
       "      <th>0</th>\n",
       "      <td>A ex-BBB 23 Paula Freitas compartilhou em suas...</td>\n",
       "      <td>Entretenimento</td>\n",
       "      <td>Ex-BBB Paula se emociona com novo procedimento...</td>\n",
       "      <td>200</td>\n",
       "    </tr>\n",
       "    <tr>\n",
       "      <th>1</th>\n",
       "      <td>Gabby Orrda CNN Talvez no sinal mais forte até...</td>\n",
       "      <td>Internacional</td>\n",
       "      <td>Trump sinaliza que anúncio de candidatura para...</td>\n",
       "      <td>413</td>\n",
       "    </tr>\n",
       "    <tr>\n",
       "      <th>2</th>\n",
       "      <td>A Caixa Econômica Federal (Caixa) começa a pag...</td>\n",
       "      <td>Economia</td>\n",
       "      <td>Auxílio Emergencial 2021: Caixa começa a pagar...</td>\n",
       "      <td>285</td>\n",
       "    </tr>\n",
       "    <tr>\n",
       "      <th>3</th>\n",
       "      <td>A empresa também adicionou um recurso para pro...</td>\n",
       "      <td>Política</td>\n",
       "      <td>Netflix lança novos recursos para controle dos...</td>\n",
       "      <td>140</td>\n",
       "    </tr>\n",
       "    <tr>\n",
       "      <th>4</th>\n",
       "      <td>\"O estudo constata que 5% da população espanho...</td>\n",
       "      <td>Ciência e Tecnologia</td>\n",
       "      <td>Estudo estima que 5% da população da Espanha c...</td>\n",
       "      <td>163</td>\n",
       "    </tr>\n",
       "  </tbody>\n",
       "</table>\n",
       "</div>"
      ]
     },
     "execution_count": 6,
     "metadata": {},
     "output_type": "execute_result"
    }
   ],
   "execution_count": 6
  },
  {
   "metadata": {
    "ExecuteTime": {
     "end_time": "2025-07-09T16:04:40.294235Z",
     "start_time": "2025-07-09T16:04:40.271614Z"
    }
   },
   "cell_type": "code",
   "source": "print(df[\"Tamanho_noticia\"].quantile([0.25, 0.5, 0.75, 0.90, 0.99]))\n",
   "id": "994de7a71a433c7a",
   "outputs": [
    {
     "name": "stdout",
     "output_type": "stream",
     "text": [
      "0.25     200.0\n",
      "0.50     344.0\n",
      "0.75     620.0\n",
      "0.90    1130.0\n",
      "0.99    2534.0\n",
      "Name: Tamanho_noticia, dtype: float64\n"
     ]
    }
   ],
   "execution_count": 7
  },
  {
   "metadata": {
    "ExecuteTime": {
     "end_time": "2025-07-09T16:04:44.304109Z",
     "start_time": "2025-07-09T16:04:44.290737Z"
    }
   },
   "cell_type": "code",
   "source": [
    "#adicionando colunas curto, medio, longo e muito longo\n",
    "df[\"Tamanho\"] = \"curto\"\n",
    "df.loc[df[\"Tamanho_noticia\"] > 201, \"Tamanho\"] = \"medio\"\n",
    "df.loc[df[\"Tamanho_noticia\"] > 621, \"Tamanho\"] = \"longo\"\n",
    "df.loc[df[\"Tamanho_noticia\"] > 1000, \"Tamanho\"] = \"muito longo\"\n"
   ],
   "id": "b7622663ef535d80",
   "outputs": [],
   "execution_count": 8
  },
  {
   "metadata": {
    "ExecuteTime": {
     "end_time": "2025-07-09T16:38:09.097942Z",
     "start_time": "2025-07-09T16:38:09.081562Z"
    }
   },
   "cell_type": "code",
   "source": "len(df)",
   "id": "6d52a57ff773c42e",
   "outputs": [
    {
     "data": {
      "text/plain": [
       "138565"
      ]
     },
     "execution_count": 20,
     "metadata": {},
     "output_type": "execute_result"
    }
   ],
   "execution_count": 20
  },
  {
   "metadata": {
    "ExecuteTime": {
     "end_time": "2025-07-09T16:43:36.599271Z",
     "start_time": "2025-07-09T16:43:34.143145Z"
    }
   },
   "cell_type": "code",
   "source": [
    "#vendo a quantidade de vazios em df\n",
    "print(df.isnull().sum())"
   ],
   "id": "d4d52bbbf673c8c7",
   "outputs": [
    {
     "name": "stdout",
     "output_type": "stream",
     "text": [
      "Noticia            0\n",
      "Categoria          0\n",
      "Sumario            0\n",
      "Tamanho_noticia    0\n",
      "Tamanho            0\n",
      "dtype: int64\n"
     ]
    }
   ],
   "execution_count": 21
  },
  {
   "metadata": {
    "ExecuteTime": {
     "end_time": "2025-07-09T16:44:25.976086Z",
     "start_time": "2025-07-09T16:44:25.817782Z"
    }
   },
   "cell_type": "code",
   "source": [
    "df_sample, _ = train_test_split(\n",
    "    df,\n",
    "    train_size=100000,\n",
    "    stratify=df[\"Tamanho\"],\n",
    "    random_state=42\n",
    ")\n"
   ],
   "id": "f690281b50529c2d",
   "outputs": [],
   "execution_count": 23
  },
  {
   "metadata": {
    "ExecuteTime": {
     "end_time": "2025-07-09T16:05:27.814395Z",
     "start_time": "2025-07-09T16:05:26.411807Z"
    }
   },
   "cell_type": "code",
   "source": [
    "import matplotlib.pyplot as plt\n",
    "#montando um grafico de barras com a quantidade de amostras por tamanho\n",
    "df_sample[\"Tamanho\"].value_counts().plot(kind=\"bar\")\n",
    "plt.title(\"Quantidade de amostras por tamanho\")\n",
    "plt.xlabel(\"Tamanho\")\n",
    "plt.ylabel(\"Quantidade\")\n",
    "plt.xticks(rotation=90)\n",
    "plt.show()\n"
   ],
   "id": "88e118497274d7ef",
   "outputs": [
    {
     "data": {
      "text/plain": [
       "<Figure size 640x480 with 1 Axes>"
      ],
      "image/png": "[encoded data removed]"
     },
     "metadata": {},
     "output_type": "display_data"
    }
   ],
   "execution_count": 10
  },
  {
   "metadata": {
    "ExecuteTime": {
     "end_time": "2025-07-09T16:44:35.452279Z",
     "start_time": "2025-07-09T16:44:29.499941Z"
    }
   },
   "cell_type": "code",
   "source": [
    "#salvando o dataframe amostrado em um arquivo csv\n",
    "df_sample.to_csv(\"data/sample/sample_train_tamanho100000.csv\", index=False)"
   ],
   "id": "1d7f4e0d84d7bc09",
   "outputs": [],
   "execution_count": 24
  },
  {
   "metadata": {},
   "cell_type": "markdown",
   "source": "## fazendo a concatenaçao para validacao\n",
   "id": "47a2946495941cfb"
  },
  {
   "metadata": {
    "ExecuteTime": {
     "end_time": "2025-07-09T16:49:39.218835Z",
     "start_time": "2025-07-09T16:49:31.106847Z"
    }
   },
   "cell_type": "code",
   "source": [
    "df_a_valid = pd.read_excel(\"data/recognasum/validation.xlsx\")\n",
    "df_b_valid = pd.read_json(\"data/xlsum/portuguese_val.jsonl\",lines=True)"
   ],
   "id": "de8c4875774cac1f",
   "outputs": [],
   "execution_count": 25
  },
  {
   "metadata": {
    "ExecuteTime": {
     "end_time": "2025-07-07T23:00:49.551980Z",
     "start_time": "2025-07-07T23:00:49.541881Z"
    }
   },
   "cell_type": "code",
   "source": "df_a_valid.head()",
   "id": "35ce4563e0455a40",
   "outputs": [
    {
     "data": {
      "text/plain": [
       "   Unnamed: 0   index                                             Titulo  \\\n",
       "0           0  123170  PGR denuncia deputada Iracema Portella por sup...   \n",
       "1           1   68308  Câncer de pulmão pode ter relação com históric...   \n",
       "2           2   59497  Manuela D'Ávila diz que não vai concorrer nas ...   \n",
       "3           3  132176  Covid: Em alta, média móvel de mortes fica em ...   \n",
       "4           4  132215  Brasil registra 7,7 mil novos casos de covid-1...   \n",
       "\n",
       "                                           Subtitulo  \\\n",
       "0  Deputada do Centrão é suspeita de ter recebido...   \n",
       "1  Médicos procuram nova abordagem para entender ...   \n",
       "2  Em publicação nas redes sociais, a ex-deputada...   \n",
       "3  Desde o início da pandemia foram 689.998 morte...   \n",
       "4  Em boletim divulgado hoje (19), o Ministério d...   \n",
       "\n",
       "                                             Noticia             Categoria  \\\n",
       "0  Procurada, a defesa da parlamentar enviou a se...              Política   \n",
       "1  Atualmente, a detecção do câncer de pulmão é r...  Ciência e Tecnologia   \n",
       "2  Neste sábado (28), a ex-deputada federal Manue...              Política   \n",
       "3  A média móvel de mortes causadas pela covid-19...                 Saúde   \n",
       "4  Em boletim divulgado hoje (19), o Ministério d...                 Saúde   \n",
       "\n",
       "                                               Autor  \\\n",
       "0  Por Márcio Falcão e Fernanda Vivas, TV Globo —...   \n",
       "1            Fernanda Lopes SoldateliAdriano Camargo   \n",
       "2                                  iG Último Segundo   \n",
       "3                                                UOL   \n",
       "4                                                UOL   \n",
       "\n",
       "                                              Data  \\\n",
       "0                                09/06/2020 16h44    \n",
       "1                                 03/01/2023 16h00   \n",
       "2                                 28/05/2022 11:34   \n",
       "3  01/12/2022 19h00Atualizada em 01/12/2022 20h48    \n",
       "4                                19/11/2022 19h27    \n",
       "\n",
       "                                                 URL  \\\n",
       "0  https://g1.globo.com/politica/noticia/2020/06/...   \n",
       "1  https://olhardigital.com.br/2023/01/03/medicin...   \n",
       "2  https://ultimosegundo.ig.com.br/politica/2022-...   \n",
       "3  https://noticias.uol.com.br/saude/ultimas-noti...   \n",
       "4  https://noticias.uol.com.br/saude/ultimas-noti...   \n",
       "\n",
       "                             Autor_corrigido  \\\n",
       "0              Márcio Falcão, Fernanda Vivas   \n",
       "1  Fernanda Lopes Soldateli, Adriano Camargo   \n",
       "2                          iG Último Segundo   \n",
       "3                                        UOL   \n",
       "4                                        UOL   \n",
       "\n",
       "                                             Sumario  \n",
       "0  PGR denuncia deputada Iracema Portella por sup...  \n",
       "1  Câncer de pulmão pode ter relação com históric...  \n",
       "2  Manuela D'Ávila diz que não vai concorrer nas ...  \n",
       "3  Covid: Em alta, média móvel de mortes fica em ...  \n",
       "4  Brasil registra 7,7 mil novos casos de covid-1...  "
      ],
      "text/html": [
       "<div>\n",
       "<style scoped>\n",
       "    .dataframe tbody tr th:only-of-type {\n",
       "        vertical-align: middle;\n",
       "    }\n",
       "\n",
       "    .dataframe tbody tr th {\n",
       "        vertical-align: top;\n",
       "    }\n",
       "\n",
       "    .dataframe thead th {\n",
       "        text-align: right;\n",
       "    }\n",
       "</style>\n",
       "<table border=\"1\" class=\"dataframe\">\n",
       "  <thead>\n",
       "    <tr style=\"text-align: right;\">\n",
       "      <th></th>\n",
       "      <th>Unnamed: 0</th>\n",
       "      <th>index</th>\n",
       "      <th>Titulo</th>\n",
       "      <th>Subtitulo</th>\n",
       "      <th>Noticia</th>\n",
       "      <th>Categoria</th>\n",
       "      <th>Autor</th>\n",
       "      <th>Data</th>\n",
       "      <th>URL</th>\n",
       "      <th>Autor_corrigido</th>\n",
       "      <th>Sumario</th>\n",
       "    </tr>\n",
       "  </thead>\n",
       "  <tbody>\n",
       "    <tr>\n",
       "      <th>0</th>\n",
       "      <td>0</td>\n",
       "      <td>123170</td>\n",
       "      <td>PGR denuncia deputada Iracema Portella por sup...</td>\n",
       "      <td>Deputada do Centrão é suspeita de ter recebido...</td>\n",
       "      <td>Procurada, a defesa da parlamentar enviou a se...</td>\n",
       "      <td>Política</td>\n",
       "      <td>Por Márcio Falcão e Fernanda Vivas, TV Globo —...</td>\n",
       "      <td>09/06/2020 16h44</td>\n",
       "      <td>https://g1.globo.com/politica/noticia/2020/06/...</td>\n",
       "      <td>Márcio Falcão, Fernanda Vivas</td>\n",
       "      <td>PGR denuncia deputada Iracema Portella por sup...</td>\n",
       "    </tr>\n",
       "    <tr>\n",
       "      <th>1</th>\n",
       "      <td>1</td>\n",
       "      <td>68308</td>\n",
       "      <td>Câncer de pulmão pode ter relação com históric...</td>\n",
       "      <td>Médicos procuram nova abordagem para entender ...</td>\n",
       "      <td>Atualmente, a detecção do câncer de pulmão é r...</td>\n",
       "      <td>Ciência e Tecnologia</td>\n",
       "      <td>Fernanda Lopes SoldateliAdriano Camargo</td>\n",
       "      <td>03/01/2023 16h00</td>\n",
       "      <td>https://olhardigital.com.br/2023/01/03/medicin...</td>\n",
       "      <td>Fernanda Lopes Soldateli, Adriano Camargo</td>\n",
       "      <td>Câncer de pulmão pode ter relação com históric...</td>\n",
       "    </tr>\n",
       "    <tr>\n",
       "      <th>2</th>\n",
       "      <td>2</td>\n",
       "      <td>59497</td>\n",
       "      <td>Manuela D'Ávila diz que não vai concorrer nas ...</td>\n",
       "      <td>Em publicação nas redes sociais, a ex-deputada...</td>\n",
       "      <td>Neste sábado (28), a ex-deputada federal Manue...</td>\n",
       "      <td>Política</td>\n",
       "      <td>iG Último Segundo</td>\n",
       "      <td>28/05/2022 11:34</td>\n",
       "      <td>https://ultimosegundo.ig.com.br/politica/2022-...</td>\n",
       "      <td>iG Último Segundo</td>\n",
       "      <td>Manuela D'Ávila diz que não vai concorrer nas ...</td>\n",
       "    </tr>\n",
       "    <tr>\n",
       "      <th>3</th>\n",
       "      <td>3</td>\n",
       "      <td>132176</td>\n",
       "      <td>Covid: Em alta, média móvel de mortes fica em ...</td>\n",
       "      <td>Desde o início da pandemia foram 689.998 morte...</td>\n",
       "      <td>A média móvel de mortes causadas pela covid-19...</td>\n",
       "      <td>Saúde</td>\n",
       "      <td>UOL</td>\n",
       "      <td>01/12/2022 19h00Atualizada em 01/12/2022 20h48</td>\n",
       "      <td>https://noticias.uol.com.br/saude/ultimas-noti...</td>\n",
       "      <td>UOL</td>\n",
       "      <td>Covid: Em alta, média móvel de mortes fica em ...</td>\n",
       "    </tr>\n",
       "    <tr>\n",
       "      <th>4</th>\n",
       "      <td>4</td>\n",
       "      <td>132215</td>\n",
       "      <td>Brasil registra 7,7 mil novos casos de covid-1...</td>\n",
       "      <td>Em boletim divulgado hoje (19), o Ministério d...</td>\n",
       "      <td>Em boletim divulgado hoje (19), o Ministério d...</td>\n",
       "      <td>Saúde</td>\n",
       "      <td>UOL</td>\n",
       "      <td>19/11/2022 19h27</td>\n",
       "      <td>https://noticias.uol.com.br/saude/ultimas-noti...</td>\n",
       "      <td>UOL</td>\n",
       "      <td>Brasil registra 7,7 mil novos casos de covid-1...</td>\n",
       "    </tr>\n",
       "  </tbody>\n",
       "</table>\n",
       "</div>"
      ]
     },
     "execution_count": 9,
     "metadata": {},
     "output_type": "execute_result"
    }
   ],
   "execution_count": 9
  },
  {
   "metadata": {
    "ExecuteTime": {
     "end_time": "2025-07-09T16:49:39.265774Z",
     "start_time": "2025-07-09T16:49:39.232020Z"
    }
   },
   "cell_type": "code",
   "source": [
    "#removendo as colunas que nao serao usadas\n",
    "df_a_valid = df_a_valid[[\"Noticia\",\"Categoria\", \"Sumario\"]]\n",
    "df_b_valid = df_b_valid[[\"text\",\"summary\"]]\n",
    "\n",
    "#adicionando a coluna categoria ao df_b e colocando todos os dados como none\n",
    "df_b_valid[\"Categoria\"] = \"None\"\n",
    "\n",
    "#renomeando as colunas para ficarem iguais\n",
    "df_b_valid = df_b.rename(columns={\"text\": \"Noticia\", \"summary\": \"Sumario\"})\n",
    "\n",
    "df_b_valid.head()"
   ],
   "id": "989686b5d200cbf7",
   "outputs": [
    {
     "data": {
      "text/plain": [
       "                                             Noticia  \\\n",
       "0  Na última sexta-feira, um atirador abriu fogo ...   \n",
       "1  Segundo organização, sistema de aposentadorias...   \n",
       "2  Nenhum deles é torturado ou forçado a dormir a...   \n",
       "3  Uma das principais causas da resistência bacte...   \n",
       "4  No início da tarde desta quinta-feira, o euro ...   \n",
       "\n",
       "                                             Sumario Categoria  \n",
       "0  A comunidade de Newtown deu início nesta segun...      None  \n",
       "1  A Organização para a Cooperação e Desenvolvime...      None  \n",
       "2  Em Manchester, a que não chamarei de “a Juiz d...      None  \n",
       "3  No final de janeiro, a estudante macapaense Ad...      None  \n",
       "4  O dólar registrou nesta quinta-feira novas bai...      None  "
      ],
      "text/html": [
       "<div>\n",
       "<style scoped>\n",
       "    .dataframe tbody tr th:only-of-type {\n",
       "        vertical-align: middle;\n",
       "    }\n",
       "\n",
       "    .dataframe tbody tr th {\n",
       "        vertical-align: top;\n",
       "    }\n",
       "\n",
       "    .dataframe thead th {\n",
       "        text-align: right;\n",
       "    }\n",
       "</style>\n",
       "<table border=\"1\" class=\"dataframe\">\n",
       "  <thead>\n",
       "    <tr style=\"text-align: right;\">\n",
       "      <th></th>\n",
       "      <th>Noticia</th>\n",
       "      <th>Sumario</th>\n",
       "      <th>Categoria</th>\n",
       "    </tr>\n",
       "  </thead>\n",
       "  <tbody>\n",
       "    <tr>\n",
       "      <th>0</th>\n",
       "      <td>Na última sexta-feira, um atirador abriu fogo ...</td>\n",
       "      <td>A comunidade de Newtown deu início nesta segun...</td>\n",
       "      <td>None</td>\n",
       "    </tr>\n",
       "    <tr>\n",
       "      <th>1</th>\n",
       "      <td>Segundo organização, sistema de aposentadorias...</td>\n",
       "      <td>A Organização para a Cooperação e Desenvolvime...</td>\n",
       "      <td>None</td>\n",
       "    </tr>\n",
       "    <tr>\n",
       "      <th>2</th>\n",
       "      <td>Nenhum deles é torturado ou forçado a dormir a...</td>\n",
       "      <td>Em Manchester, a que não chamarei de “a Juiz d...</td>\n",
       "      <td>None</td>\n",
       "    </tr>\n",
       "    <tr>\n",
       "      <th>3</th>\n",
       "      <td>Uma das principais causas da resistência bacte...</td>\n",
       "      <td>No final de janeiro, a estudante macapaense Ad...</td>\n",
       "      <td>None</td>\n",
       "    </tr>\n",
       "    <tr>\n",
       "      <th>4</th>\n",
       "      <td>No início da tarde desta quinta-feira, o euro ...</td>\n",
       "      <td>O dólar registrou nesta quinta-feira novas bai...</td>\n",
       "      <td>None</td>\n",
       "    </tr>\n",
       "  </tbody>\n",
       "</table>\n",
       "</div>"
      ]
     },
     "execution_count": 26,
     "metadata": {},
     "output_type": "execute_result"
    }
   ],
   "execution_count": 26
  },
  {
   "metadata": {
    "ExecuteTime": {
     "end_time": "2025-07-09T16:49:42.087638Z",
     "start_time": "2025-07-09T16:49:41.415122Z"
    }
   },
   "cell_type": "code",
   "source": [
    "#concatenando os dois dataframes\n",
    "df_valid = pd.concat([df_a_valid, df_b_valid], ignore_index=True)\n"
   ],
   "id": "d0fbbb4012ee4301",
   "outputs": [],
   "execution_count": 27
  },
  {
   "metadata": {
    "ExecuteTime": {
     "end_time": "2025-07-09T16:49:43.680750Z",
     "start_time": "2025-07-09T16:49:43.675057Z"
    }
   },
   "cell_type": "code",
   "source": "len(df_valid)",
   "id": "9cd9c16886ef7906",
   "outputs": [
    {
     "data": {
      "text/plain": [
       "84456"
      ]
     },
     "execution_count": 28,
     "metadata": {},
     "output_type": "execute_result"
    }
   ],
   "execution_count": 28
  },
  {
   "metadata": {
    "ExecuteTime": {
     "end_time": "2025-07-09T16:49:48.614204Z",
     "start_time": "2025-07-09T16:49:45.791821Z"
    }
   },
   "cell_type": "code",
   "source": [
    "#criando uma nova coluna com o numero de caracteres da noticia\n",
    "df_valid[\"Tamanho_noticia\"] = df_valid[\"Noticia\"].apply(lambda x: len(x.split()))\n",
    "#adicionando colunas curto, medio, longo e muito longo\n",
    "df_valid[\"Tamanho\"] = \"curto\"\n",
    "df_valid.loc[df_valid[\"Tamanho_noticia\"] > 201, \"Tamanho\"] = \"medio\"\n",
    "df_valid.loc[df_valid[\"Tamanho_noticia\"] > 621, \"Tamanho\"] = \"longo\"\n",
    "df_valid.loc[df_valid[\"Tamanho_noticia\"] > 1000, \"Tamanho\"] = \"muito longo\"\n"
   ],
   "id": "be25abc76138dc0b",
   "outputs": [],
   "execution_count": 29
  },
  {
   "metadata": {
    "ExecuteTime": {
     "end_time": "2025-07-08T23:39:43.105932Z",
     "start_time": "2025-07-08T23:39:43.097549Z"
    }
   },
   "cell_type": "code",
   "source": "df_valid.head()",
   "id": "a7f50455db771510",
   "outputs": [
    {
     "data": {
      "text/plain": [
       "                                             Noticia             Categoria  \\\n",
       "0  Procurada, a defesa da parlamentar enviou a se...              Política   \n",
       "1  Atualmente, a detecção do câncer de pulmão é r...  Ciência e Tecnologia   \n",
       "2  Neste sábado (28), a ex-deputada federal Manue...              Política   \n",
       "3  A média móvel de mortes causadas pela covid-19...                 Saúde   \n",
       "4  Em boletim divulgado hoje (19), o Ministério d...                 Saúde   \n",
       "\n",
       "                                             Sumario  Tamanho_noticia Tamanho  \n",
       "0  PGR denuncia deputada Iracema Portella por sup...              247   medio  \n",
       "1  Câncer de pulmão pode ter relação com históric...              448   medio  \n",
       "2  Manuela D'Ávila diz que não vai concorrer nas ...              196   curto  \n",
       "3  Covid: Em alta, média móvel de mortes fica em ...              134   curto  \n",
       "4  Brasil registra 7,7 mil novos casos de covid-1...              133   curto  "
      ],
      "text/html": [
       "<div>\n",
       "<style scoped>\n",
       "    .dataframe tbody tr th:only-of-type {\n",
       "        vertical-align: middle;\n",
       "    }\n",
       "\n",
       "    .dataframe tbody tr th {\n",
       "        vertical-align: top;\n",
       "    }\n",
       "\n",
       "    .dataframe thead th {\n",
       "        text-align: right;\n",
       "    }\n",
       "</style>\n",
       "<table border=\"1\" class=\"dataframe\">\n",
       "  <thead>\n",
       "    <tr style=\"text-align: right;\">\n",
       "      <th></th>\n",
       "      <th>Noticia</th>\n",
       "      <th>Categoria</th>\n",
       "      <th>Sumario</th>\n",
       "      <th>Tamanho_noticia</th>\n",
       "      <th>Tamanho</th>\n",
       "    </tr>\n",
       "  </thead>\n",
       "  <tbody>\n",
       "    <tr>\n",
       "      <th>0</th>\n",
       "      <td>Procurada, a defesa da parlamentar enviou a se...</td>\n",
       "      <td>Política</td>\n",
       "      <td>PGR denuncia deputada Iracema Portella por sup...</td>\n",
       "      <td>247</td>\n",
       "      <td>medio</td>\n",
       "    </tr>\n",
       "    <tr>\n",
       "      <th>1</th>\n",
       "      <td>Atualmente, a detecção do câncer de pulmão é r...</td>\n",
       "      <td>Ciência e Tecnologia</td>\n",
       "      <td>Câncer de pulmão pode ter relação com históric...</td>\n",
       "      <td>448</td>\n",
       "      <td>medio</td>\n",
       "    </tr>\n",
       "    <tr>\n",
       "      <th>2</th>\n",
       "      <td>Neste sábado (28), a ex-deputada federal Manue...</td>\n",
       "      <td>Política</td>\n",
       "      <td>Manuela D'Ávila diz que não vai concorrer nas ...</td>\n",
       "      <td>196</td>\n",
       "      <td>curto</td>\n",
       "    </tr>\n",
       "    <tr>\n",
       "      <th>3</th>\n",
       "      <td>A média móvel de mortes causadas pela covid-19...</td>\n",
       "      <td>Saúde</td>\n",
       "      <td>Covid: Em alta, média móvel de mortes fica em ...</td>\n",
       "      <td>134</td>\n",
       "      <td>curto</td>\n",
       "    </tr>\n",
       "    <tr>\n",
       "      <th>4</th>\n",
       "      <td>Em boletim divulgado hoje (19), o Ministério d...</td>\n",
       "      <td>Saúde</td>\n",
       "      <td>Brasil registra 7,7 mil novos casos de covid-1...</td>\n",
       "      <td>133</td>\n",
       "      <td>curto</td>\n",
       "    </tr>\n",
       "  </tbody>\n",
       "</table>\n",
       "</div>"
      ]
     },
     "execution_count": 15,
     "metadata": {},
     "output_type": "execute_result"
    }
   ],
   "execution_count": 15
  },
  {
   "metadata": {
    "ExecuteTime": {
     "end_time": "2025-07-09T16:49:58.538454Z",
     "start_time": "2025-07-09T16:49:58.412808Z"
    }
   },
   "cell_type": "code",
   "source": [
    "df_sample_valid, _ = train_test_split(\n",
    "    df_valid,\n",
    "    train_size=10000,\n",
    "    stratify=df_valid[\"Tamanho\"],\n",
    "    random_state=42\n",
    ")"
   ],
   "id": "1ff1a6e96b9379dd",
   "outputs": [],
   "execution_count": 30
  },
  {
   "metadata": {
    "ExecuteTime": {
     "end_time": "2025-07-09T16:50:00.896259Z",
     "start_time": "2025-07-09T16:50:00.889786Z"
    }
   },
   "cell_type": "code",
   "source": "len(df_sample_valid)",
   "id": "3130b5a97a10fd39",
   "outputs": [
    {
     "data": {
      "text/plain": [
       "10000"
      ]
     },
     "execution_count": 31,
     "metadata": {},
     "output_type": "execute_result"
    }
   ],
   "execution_count": 31
  },
  {
   "metadata": {
    "ExecuteTime": {
     "end_time": "2025-07-09T16:50:07.154999Z",
     "start_time": "2025-07-09T16:50:06.747563Z"
    }
   },
   "cell_type": "code",
   "source": [
    "#criando csv de validacao\n",
    "df_sample_valid.to_csv(\"data/sample/sample_valid_10000.csv\", index=False)"
   ],
   "id": "36de9252832af1f4",
   "outputs": [],
   "execution_count": 32
  }
 ],
 "metadata": {
  "kernelspec": {
   "display_name": "Python 3",
   "language": "python",
   "name": "python3"
  },
  "language_info": {
   "codemirror_mode": {
    "name": "ipython",
    "version": 2
   },
   "file_extension": ".py",
   "mimetype": "text/x-python",
   "name": "python",
   "nbconvert_exporter": "python",
   "pygments_lexer": "ipython2",
   "version": "2.7.6"
  }
 },
 "nbformat": 4,
 "nbformat_minor": 5
}
